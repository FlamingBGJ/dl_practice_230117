{
 "cells": [
  {
   "cell_type": "code",
   "execution_count": 8,
   "metadata": {},
   "outputs": [],
   "source": [
    "# 숫자로된 x_1, x_2 를 입력 받고 0 또는 1로 출력할수있는 AND, OR 연산을 만들어 보세요\n",
    "\n",
    "def and_fun(x_1, x_2):\n",
    "    w_0 = -3/2\n",
    "    w_1 = +1\n",
    "    w_2 = +1\n",
    "    output = w_1 * x_1 + w_2 * x_2 + w_0\n",
    "    if output >= 0:\n",
    "        return 1\n",
    "    else:\n",
    "        return 0\n",
    "\n",
    "def or_fun(x_1, x_2):\n",
    "    w_0 = -1/2\n",
    "    w_1 = +1\n",
    "    w_2 = +1\n",
    "    output = w_1 * x_1 + w_2 * x_2 + w_0\n",
    "    if output >= 0:\n",
    "        return 1\n",
    "    else:\n",
    "        return 0\n",
    "\n",
    "\n",
    "# XOR????\n"
   ]
  },
  {
   "cell_type": "code",
   "execution_count": 9,
   "metadata": {},
   "outputs": [
    {
     "data": {
      "text/plain": [
       "1"
      ]
     },
     "execution_count": 9,
     "metadata": {},
     "output_type": "execute_result"
    }
   ],
   "source": [
    "and_fun(1,1)"
   ]
  },
  {
   "cell_type": "code",
   "execution_count": 15,
   "metadata": {},
   "outputs": [
    {
     "data": {
      "text/plain": [
       "1"
      ]
     },
     "execution_count": 15,
     "metadata": {},
     "output_type": "execute_result"
    }
   ],
   "source": [
    "or_fun(1,1)"
   ]
  },
  {
   "cell_type": "code",
   "execution_count": 1,
   "metadata": {},
   "outputs": [
    {
     "name": "stdout",
     "output_type": "stream",
     "text": [
      "1238099084\n",
      "1238099084\n",
      "1238099084\n",
      "1238099084\n",
      "1238099084\n",
      "12380084\n",
      "12380084\n",
      "123884\n",
      "1234\n",
      "#1 1234\n"
     ]
    },
    {
     "ename": "ValueError",
     "evalue": "not enough values to unpack (expected 2, got 0)",
     "output_type": "error",
     "traceback": [
      "\u001b[0;31m---------------------------------------------------------------------------\u001b[0m",
      "\u001b[0;31mValueError\u001b[0m                                Traceback (most recent call last)",
      "Cell \u001b[0;32mIn[1], line 2\u001b[0m\n\u001b[1;32m      1\u001b[0m \u001b[39mfor\u001b[39;00m _ \u001b[39min\u001b[39;00m \u001b[39mrange\u001b[39m(\u001b[39m1\u001b[39m,\u001b[39m11\u001b[39m):\n\u001b[0;32m----> 2\u001b[0m     b, c \u001b[39m=\u001b[39m \u001b[39mmap\u001b[39m(\u001b[39mstr\u001b[39m, \u001b[39minput\u001b[39m()\u001b[39m.\u001b[39msplit())\n\u001b[1;32m      3\u001b[0m     pw \u001b[39m=\u001b[39m c\n\u001b[1;32m      4\u001b[0m     pw_len \u001b[39m=\u001b[39m \u001b[39mint\u001b[39m(b)\n",
      "\u001b[0;31mValueError\u001b[0m: not enough values to unpack (expected 2, got 0)"
     ]
    }
   ],
   "source": [
    "for _ in range(1,11):\n",
    "    b, c = map(str, input().split())\n",
    "    pw = c\n",
    "    pw_len = int(b)\n",
    "    for i in range(pw_len-1):\n",
    "        c[i]==c[i+1]\n",
    "        pw = pw.replace(c[i]*2, \"\")\n",
    "        print(pw)\n",
    "    print(f\"#{_} {pw}\")"
   ]
  },
  {
   "cell_type": "code",
   "execution_count": null,
   "metadata": {},
   "outputs": [],
   "source": []
  }
 ],
 "metadata": {
  "kernelspec": {
   "display_name": "Python 3.10.6 ('pandas': venv)",
   "language": "python",
   "name": "python3"
  },
  "language_info": {
   "codemirror_mode": {
    "name": "ipython",
    "version": 3
   },
   "file_extension": ".py",
   "mimetype": "text/x-python",
   "name": "python",
   "nbconvert_exporter": "python",
   "pygments_lexer": "ipython3",
   "version": "3.10.6"
  },
  "orig_nbformat": 4,
  "vscode": {
   "interpreter": {
    "hash": "c0853bc95e813b42f8b96c9a0544e5b3c1f4d11420edc31cec84a3d9d1b9fa39"
   }
  }
 },
 "nbformat": 4,
 "nbformat_minor": 2
}
